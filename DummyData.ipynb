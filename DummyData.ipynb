{
 "cells": [
  {
   "cell_type": "code",
   "execution_count": 16,
   "id": "d2835bd8",
   "metadata": {},
   "outputs": [],
   "source": [
    "from neo4j import GraphDatabase\n",
    "from random import randint"
   ]
  },
  {
   "cell_type": "code",
   "execution_count": 9,
   "id": "2737ee6c",
   "metadata": {},
   "outputs": [],
   "source": [
    "driver = GraphDatabase.driver(\"neo4j+s://a71ad3ae.databases.neo4j.io\", auth=(\"neo4j\", \"JYzNlAikmiFLjlTocP1c15qtT4St9oyIK-ZeIzEKlVo\"))"
   ]
  },
  {
   "cell_type": "code",
   "execution_count": 10,
   "id": "2d750ae4",
   "metadata": {},
   "outputs": [],
   "source": [
    "driver.verify_connectivity()"
   ]
  },
  {
   "cell_type": "code",
   "execution_count": 11,
   "id": "e78e5700",
   "metadata": {},
   "outputs": [],
   "source": [
    "def create_users_and_rooms():\n",
    "    with driver.session() as session:\n",
    "        for i in range(1, 41):\n",
    "            user_id = f\"user{i}\"\n",
    "            query = f\"CREATE (:User {{id: '{user_id}'}})\"\n",
    "            session.run(query)\n",
    "\n",
    "        for i in range(1, 11):\n",
    "            room_id = f\"room{i}\"\n",
    "            query = f\"CREATE (:Room {{id: '{room_id}'}})\"\n",
    "            session.run(query)"
   ]
  },
  {
   "cell_type": "code",
   "execution_count": 17,
   "id": "0121c6c2",
   "metadata": {},
   "outputs": [],
   "source": [
    "def create_interactions():\n",
    "    with driver.session() as session:\n",
    "        for i in range(1, 41):\n",
    "            user_id = f\"user{i}\"\n",
    "            for j in range(1, 11):\n",
    "                random_id = randint(1, 12)\n",
    "                room_id = f\"room{random_id}\"\n",
    "                query = f\"\"\"\n",
    "                MATCH (u:User {{id: '{user_id}'}}), (r:Room {{id: '{room_id}'}})\n",
    "                CREATE (u)-[:INTERACTED_WITH]->(r)\n",
    "                \"\"\"\n",
    "                session.run(query)"
   ]
  },
  {
   "cell_type": "code",
   "execution_count": 18,
   "id": "82f8e68c",
   "metadata": {},
   "outputs": [],
   "source": [
    "create_users_and_rooms()"
   ]
  },
  {
   "cell_type": "code",
   "execution_count": 19,
   "id": "186800c8",
   "metadata": {},
   "outputs": [],
   "source": [
    "create_interactions()"
   ]
  },
  {
   "cell_type": "code",
   "execution_count": null,
   "id": "85048400",
   "metadata": {},
   "outputs": [],
   "source": []
  }
 ],
 "metadata": {
  "kernelspec": {
   "display_name": "Python 3 (ipykernel)",
   "language": "python",
   "name": "python3"
  },
  "language_info": {
   "codemirror_mode": {
    "name": "ipython",
    "version": 3
   },
   "file_extension": ".py",
   "mimetype": "text/x-python",
   "name": "python",
   "nbconvert_exporter": "python",
   "pygments_lexer": "ipython3",
   "version": "3.10.8"
  }
 },
 "nbformat": 4,
 "nbformat_minor": 5
}
