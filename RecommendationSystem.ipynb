{
 "cells": [
  {
   "cell_type": "code",
   "execution_count": 15,
   "id": "488e0eba",
   "metadata": {},
   "outputs": [],
   "source": [
    "from neo4j import GraphDatabase\n",
    "import numpy as np\n",
    "from sklearn.metrics.pairwise import cosine_similarity"
   ]
  },
  {
   "cell_type": "code",
   "execution_count": 16,
   "id": "60cbfdab",
   "metadata": {},
   "outputs": [],
   "source": [
    "driver = GraphDatabase.driver(\"neo4j+s://a71ad3ae.databases.neo4j.io\", auth=(\"neo4j\", \"JYzNlAikmiFLjlTocP1c15qtT4St9oyIK-ZeIzEKlVo\"))"
   ]
  },
  {
   "cell_type": "code",
   "execution_count": 17,
   "id": "b1f23f45",
   "metadata": {},
   "outputs": [],
   "source": [
    "driver.verify_connectivity()"
   ]
  },
  {
   "cell_type": "code",
   "execution_count": 18,
   "id": "b5326cb1",
   "metadata": {},
   "outputs": [],
   "source": [
    "def get_user_room_matrix():\n",
    "    with driver.session() as session:\n",
    "        query = \"\"\"\n",
    "        MATCH (u:User)-[i:INTERACTED_WITH]->(r:Room)\n",
    "        RETURN u.id as user_id, r.id as room_id\n",
    "        \"\"\"\n",
    "        result = session.run(query)\n",
    "        user_ids = []\n",
    "        room_ids = []\n",
    "        for record in result:\n",
    "            user_ids.append(record[\"user_id\"])\n",
    "            room_ids.append(record[\"room_id\"])\n",
    "\n",
    "        distinct_users = list(set(user_ids))\n",
    "        distinct_rooms = list(set(room_ids))\n",
    "\n",
    "        user_id_map = {user_id: idx for idx, user_id in enumerate(distinct_users)}\n",
    "        room_id_map = {room_id: idx for idx, room_id in enumerate(distinct_rooms)}\n",
    "\n",
    "        ur_matrix = np.zeros((len(distinct_users), len(distinct_rooms)))\n",
    "\n",
    "        for user_id, room_id in zip(user_ids, room_ids):\n",
    "            user_idx = user_id_map[user_id]\n",
    "            room_idx = room_id_map[room_id]\n",
    "            ur_matrix[user_idx, room_idx] = 1\n",
    "\n",
    "        return ur_matrix, distinct_users, distinct_rooms\n"
   ]
  },
  {
   "cell_type": "code",
   "execution_count": 19,
   "id": "8ba49364",
   "metadata": {},
   "outputs": [],
   "source": [
    "def get_similar_users(user_id, ur_matrix, distinct_users):\n",
    "    target_user_idx = distinct_users.index(user_id)\n",
    "    similarities = cosine_similarity(ur_matrix[target_user_idx].reshape(1, -1), ur_matrix)[0]\n",
    "    recommended_users = [(distinct_users[i], similarities[i]) for i in range(len(similarities)) if i != target_user_idx]\n",
    "    recommended_users.sort(key=lambda x: x[1], reverse=True)\n",
    "    return recommended_users"
   ]
  },
  {
   "cell_type": "code",
   "execution_count": 20,
   "id": "bb191978",
   "metadata": {},
   "outputs": [],
   "source": [
    "def get_recommendations(user_id, similar_users, ur_matrix, distinct_rooms, top_n=5):\n",
    "    target_user_idx = unique_users.index(user_id)\n",
    "    target_user_interactions = ur_matrix[target_user_idx]\n",
    "    recommended_users = []\n",
    "\n",
    "    for room_idx in range(len(distinct_rooms)):\n",
    "        if target_user_interactions[room_idx] == 0:\n",
    "            weighted_sum = 0\n",
    "            similarity_sum = 0\n",
    "\n",
    "            for user, similarity in similar_users:\n",
    "                user_idx = unique_users.index(user)\n",
    "                weighted_sum += similarity * ur_matrix[user_idx, room_idx]\n",
    "                similarity_sum += similarity\n",
    "\n",
    "            if similarity_sum > 0:\n",
    "                recommendation_score = weighted_sum / similarity_sum\n",
    "                recommended_users.append((distinct_rooms[room_idx], recommendation_score))\n",
    "\n",
    "    recommended_users.sort(key=lambda x: x[1], reverse=True)\n",
    "    return recommended_users[:top_n]"
   ]
  },
  {
   "cell_type": "code",
   "execution_count": 28,
   "id": "6b0282a4",
   "metadata": {},
   "outputs": [
    {
     "name": "stdout",
     "output_type": "stream",
     "text": [
      "[('room7', 0.5625258434616128), ('room3', 0.5584570839568203), ('room5', 0.5346156975159639), ('room4', 0.42732751750946374)]\n"
     ]
    }
   ],
   "source": [
    "target_user_id = \"user20\"\n",
    "user_room_matrix, unique_users, unique_rooms = get_user_room_matrix()\n",
    "similar_users = get_similar_users(target_user_id, user_room_matrix, unique_users)\n",
    "recommendations = get_recommendations(target_user_id, similar_users, user_room_matrix, unique_rooms)\n",
    "print(recommendations)"
   ]
  },
  {
   "cell_type": "code",
   "execution_count": null,
   "id": "a55befa9",
   "metadata": {},
   "outputs": [],
   "source": []
  }
 ],
 "metadata": {
  "kernelspec": {
   "display_name": "Python 3 (ipykernel)",
   "language": "python",
   "name": "python3"
  },
  "language_info": {
   "codemirror_mode": {
    "name": "ipython",
    "version": 3
   },
   "file_extension": ".py",
   "mimetype": "text/x-python",
   "name": "python",
   "nbconvert_exporter": "python",
   "pygments_lexer": "ipython3",
   "version": "3.10.8"
  }
 },
 "nbformat": 4,
 "nbformat_minor": 5
}
